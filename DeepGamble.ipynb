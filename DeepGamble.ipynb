{
  "nbformat": 4,
  "nbformat_minor": 0,
  "metadata": {
    "colab": {
      "name": "Midterm_Project.ipynb",
      "version": "0.3.2",
      "views": {},
      "default_view": {},
      "provenance": [],
      "collapsed_sections": []
    },
    "kernelspec": {
      "name": "python3",
      "display_name": "Python 3"
    }
  },
  "cells": [
    {
      "metadata": {
        "id": "-EDLGhw_P6rW",
        "colab_type": "code",
        "colab": {
          "autoexec": {
            "startup": false,
            "wait_interval": 0
          },
          "resources": {
            "http://localhost:8080/nbextensions/google.colab/files.js": {
              "data": "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",
              "ok": true,
              "headers": [
                [
                  "content-type",
                  "application/javascript"
                ]
              ],
              "status": 200,
              "status_text": "OK"
            }
          },
          "base_uri": "https://localhost:8080/",
          "height": 220
        },
        "outputId": "47395649-2264-44a2-e4e4-2cb2fdda346f",
        "executionInfo": {
          "status": "ok",
          "timestamp": 1524442775154,
          "user_tz": 240,
          "elapsed": 20482,
          "user": {
            "displayName": "swapnendu ray",
            "photoUrl": "https://lh3.googleusercontent.com/a/default-user=s128",
            "userId": "103288128901702085430"
          }
        }
      },
      "cell_type": "code",
      "source": [
        "import tensorflow as tf\n",
        "#from tensorflow.contrib import rnn\n",
        "import random\n",
        "import collections\n",
        "import time\n",
        "import numpy as np\n",
        "#!pip install xgboost\n",
        "!pip install keras\n",
        "!pip install -U -q PyDrive ## you will have install for every colab session\n",
        "\n",
        "from pydrive.auth import GoogleAuth\n",
        "from pydrive.drive import GoogleDrive\n",
        "from google.colab import auth\n",
        "from oauth2client.client import GoogleCredentials\n",
        "\n",
        "# 1. Authenticate and create the PyDrive client.\n",
        "auth.authenticate_user()\n",
        "gauth = GoogleAuth()\n",
        "gauth.credentials = GoogleCredentials.get_application_default()\n",
        "drive = GoogleDrive(gauth)\n",
        "\n",
        "from google.colab import files\n",
        "uploaded = files.upload()\n",
        "for fn in uploaded.keys():\n",
        "  print('User uploaded file \"{name}\" with length {length} bytes'.format(name=fn, length=len(uploaded[fn])))\n",
        " \n",
        "\n",
        "\n"
      ],
      "execution_count": 43,
      "outputs": [
        {
          "output_type": "stream",
          "text": [
            "Requirement already satisfied: keras in /usr/local/lib/python3.6/dist-packages\r\n",
            "Requirement already satisfied: numpy>=1.9.1 in /usr/local/lib/python3.6/dist-packages (from keras)\r\n",
            "Requirement already satisfied: scipy>=0.14 in /usr/local/lib/python3.6/dist-packages (from keras)\r\n",
            "Requirement already satisfied: pyyaml in /usr/local/lib/python3.6/dist-packages (from keras)\r\n",
            "Requirement already satisfied: six>=1.9.0 in /usr/local/lib/python3.6/dist-packages (from keras)\n",
            "\u001b[33mYou are using pip version 9.0.3, however version 10.0.1 is available.\n",
            "You should consider upgrading via the 'pip install --upgrade pip' command.\u001b[0m\n"
          ],
          "name": "stdout"
        },
        {
          "output_type": "display_data",
          "data": {
            "text/html": [
              "\n",
              "     <input type=\"file\" id=\"files-56f94e5a-45da-405b-9a77-96cf40d0fefb\" name=\"files[]\" multiple disabled />\n",
              "     <output id=\"result-56f94e5a-45da-405b-9a77-96cf40d0fefb\">\n",
              "      Upload widget is only available when the cell has been executed in the\n",
              "      current browser session. Please rerun this cell to enable.\n",
              "      </output>\n",
              "      <script src=\"/nbextensions/google.colab/files.js\"></script> "
            ],
            "text/plain": [
              "<IPython.core.display.HTML object>"
            ]
          },
          "metadata": {
            "tags": []
          }
        },
        {
          "output_type": "stream",
          "text": [
            "Saving combine.csv to combine (1).csv\n",
            "User uploaded file \"combine.csv\" with length 1344292 bytes\n"
          ],
          "name": "stdout"
        }
      ]
    },
    {
      "metadata": {
        "id": "c8ZS_YDWjsNL",
        "colab_type": "code",
        "colab": {
          "autoexec": {
            "startup": false,
            "wait_interval": 0
          }
        }
      },
      "cell_type": "code",
      "source": [
        "\n",
        "import pandas as pd\n",
        "import matplotlib.pyplot as plt\n",
        "import seaborn as sns\n",
        "from datetime import datetime as dt\n",
        "import itertools\n",
        "import io\n",
        "#import xgboost\n",
        "from sklearn import model_selection\n",
        "from sklearn.metrics import accuracy_score\n",
        "from sklearn import cross_validation\n",
        "import sklearn\n",
        "from sklearn.preprocessing import LabelEncoder,OneHotEncoder\n",
        "from sklearn.model_selection import train_test_split\n",
        "encoding=LabelEncoder()\n",
        "from keras.models import Sequential\n",
        "from keras.layers import Input\n",
        "from keras.models import Model\n",
        "from keras.layers.core import Dense\n",
        "from keras.layers.recurrent import LSTM, SimpleRNN,GRU\n",
        "from keras.optimizers import RMSprop\n",
        "%matplotlib inline"
      ],
      "execution_count": 0,
      "outputs": []
    },
    {
      "metadata": {
        "id": "ltwckegojwNB",
        "colab_type": "code",
        "colab": {
          "autoexec": {
            "startup": false,
            "wait_interval": 0
          }
        }
      },
      "cell_type": "code",
      "source": [
        "#Uploading the data\n",
        "json_import = drive.CreateFile({'id':'15uCD0KVYK4WlUGqGbsXxLtHQ9MXr-9Vx'})\n",
        "json_import.GetContentFile('combine.csv')\n",
        "data_set=pd.read_csv('combine.csv')\n",
        "data_set.fillna(0, inplace=True)"
      ],
      "execution_count": 0,
      "outputs": []
    },
    {
      "metadata": {
        "id": "u4fgDQqpj1hk",
        "colab_type": "code",
        "colab": {
          "autoexec": {
            "startup": false,
            "wait_interval": 0
          }
        }
      },
      "cell_type": "code",
      "source": [
        "columns_req = ['HomeTeam','AwayTeam','FTHG','FTAG','FTR','HS','AS',\n",
        "               'HST','AST','HF','AF','HC','AC','HY','AY','HR','AR']\n",
        "\n",
        "playing_stat = data_set[columns_req]\n",
        "playing_stat=playing_stat[0:6740]"
      ],
      "execution_count": 0,
      "outputs": []
    },
    {
      "metadata": {
        "id": "iwsuKAFbj6D9",
        "colab_type": "code",
        "colab": {
          "autoexec": {
            "startup": false,
            "wait_interval": 0
          }
        }
      },
      "cell_type": "code",
      "source": [
        "#Storing Each of the events\n",
        "HomeTeam=playing_stat.HomeTeam\n",
        "encoding.fit(HomeTeam.values)\n",
        "HomeTeam=encoding.transform(HomeTeam.values)\n",
        "AwayTeam=playing_stat.AwayTeam\n",
        "AwayTeam=encoding.transform(AwayTeam.values)\n",
        "X_teams=np.vstack([HomeTeam,AwayTeam]).T\n",
        "FTHG=playing_stat.FTHG\n",
        "FTHG=FTHG.values.reshape(-1,1)\n",
        "FTHG=FTHG.astype(np.int64)\n",
        "FTAG=playing_stat.FTAG\n",
        "FTAG=FTAG.values.reshape(-1,1)\n",
        "FTAG=FTAG.astype(np.int64)\n",
        "HS=playing_stat.HS\n",
        "HS=HS.values.reshape(-1,1)\n",
        "HS=HS.astype(np.int64)\n",
        "AS=playing_stat.AS\n",
        "AS=AS.values.reshape(-1,1)\n",
        "AS=AS.astype(np.int64)\n",
        "HST=playing_stat.HST\n",
        "HST=HST.values.reshape(-1,1)\n",
        "HST=HST.astype(np.int64)\n",
        "AST=playing_stat.AST\n",
        "AST=AST.values.reshape(-1,1)\n",
        "AST=AST.astype(np.int64)\n",
        "HF=playing_stat.HF\n",
        "HF=HF.values.reshape(-1,1)\n",
        "HF=HS.astype(np.int64)\n",
        "AF=playing_stat.AF\n",
        "AF=AF.values.reshape(-1,1)\n",
        "AF=AF.astype(np.int64)\n",
        "HC=playing_stat.HC\n",
        "HC=HC.values.reshape(-1,1)\n",
        "HC=HC.astype(np.int64)\n",
        "HY=playing_stat.HY\n",
        "HY=HY.values.reshape(-1,1)\n",
        "HY=HY.astype(np.int64)\n",
        "AY=playing_stat.AY\n",
        "AY=AY.values.reshape(-1,1)\n",
        "AY=AY.astype(np.int64)\n",
        "HR=playing_stat.HR\n",
        "HR=HR.values.reshape(-1,1)\n",
        "HR=HR.astype(np.int64)\n",
        "AR=playing_stat.AR\n",
        "AR=AR.values.reshape(-1,1)\n",
        "AR=AR.astype(np.int64)\n",
        "Y=playing_stat.FTR\n",
        "encoding.fit(Y.values)\n",
        "Y=encoding.transform(Y.values)\n",
        "Y=Y.reshape(-1,1)"
      ],
      "execution_count": 0,
      "outputs": []
    },
    {
      "metadata": {
        "id": "WB4GzKHqkA8-",
        "colab_type": "code",
        "colab": {
          "autoexec": {
            "startup": false,
            "wait_interval": 0
          },
          "base_uri": "https://localhost:8080/",
          "height": 34
        },
        "outputId": "056147d0-fbb1-4221-c18a-d4d80597fba0",
        "executionInfo": {
          "status": "ok",
          "timestamp": 1524443052872,
          "user_tz": 240,
          "elapsed": 354,
          "user": {
            "displayName": "swapnendu ray",
            "photoUrl": "https://lh3.googleusercontent.com/a/default-user=s128",
            "userId": "103288128901702085430"
          }
        }
      },
      "cell_type": "code",
      "source": [
        "onehot=OneHotEncoder()\n",
        "X_teams=onehot.fit_transform(X_teams).todense()\n",
        "FTHG=onehot.fit_transform(FTHG).todense()\n",
        "FTAG=onehot.fit_transform(FTAG).todense()\n",
        "HS=onehot.fit_transform(HS).todense()\n",
        "AS=onehot.fit_transform(AS).todense()\n",
        "HST=onehot.fit_transform(HST).todense()\n",
        "AST=onehot.fit_transform(AST).todense()\n",
        "HF=onehot.fit_transform(HF).todense()\n",
        "AF=onehot.fit_transform(AF).todense()\n",
        "HC=onehot.fit_transform(HC).todense()\n",
        "HY=onehot.fit_transform(HY).todense()\n",
        "AY=onehot.fit_transform(AY).todense()\n",
        "HR=onehot.fit_transform(HR).todense()\n",
        "AR=onehot.fit_transform(AR).todense()\n",
        "Y=onehot.fit_transform(Y).todense()\n",
        "encoded_x=np.concatenate((X_teams,FTHG,FTAG,HS,AS,HST,AST,HF,AF,HC,HY,AY,HR,AR),axis=1)\n",
        "print(encoded_x.shape)"
      ],
      "execution_count": 79,
      "outputs": [
        {
          "output_type": "stream",
          "text": [
            "(6740, 360)\n"
          ],
          "name": "stdout"
        }
      ]
    },
    {
      "metadata": {
        "id": "5pP1BHk2kRWR",
        "colab_type": "code",
        "colab": {
          "autoexec": {
            "startup": false,
            "wait_interval": 0
          }
        }
      },
      "cell_type": "code",
      "source": [
        "#Splitting the test and training data randomly\n",
        "seed=7\n",
        "X_train, X_test, y_train, y_test = train_test_split(encoded_x, Y, test_size=0.1, random_state=seed)\n",
        "#Use np.array so as to reshape\n",
        "X_train=np.array(X_train)\n",
        "X_test=np.array(X_test)\n",
        "y_train=np.array(y_train)\n",
        "y_test=np.array(y_test)"
      ],
      "execution_count": 0,
      "outputs": []
    },
    {
      "metadata": {
        "id": "CSizfX7-ZTUc",
        "colab_type": "code",
        "colab": {
          "autoexec": {
            "startup": false,
            "wait_interval": 0
          }
        }
      },
      "cell_type": "code",
      "source": [
        "#In order to change the shape according to the time steps\n",
        "def shape(X,Y,time_steps):\n",
        "    n_x,n_y=[],[]\n",
        "    #Takes the first 1 to time_steps in sequence\n",
        "    for i in range (0,len(X)-time_steps+1):\n",
        "        x_int=X[i:i+time_steps,:].reshape((time_steps,X.shape[1]))\n",
        "        y_int=Y[i+time_steps-1,:]\n",
        "        n_x.append(x_int)\n",
        "        n_y.append(y_int)\n",
        "        \n",
        "    return np.array(n_x),np.array(n_y)"
      ],
      "execution_count": 0,
      "outputs": []
    },
    {
      "metadata": {
        "id": "_BmBIR0BZYzm",
        "colab_type": "code",
        "colab": {
          "autoexec": {
            "startup": false,
            "wait_interval": 0
          },
          "base_uri": "https://localhost:8080/",
          "height": 34
        },
        "outputId": "897245ad-27ee-4259-9c95-ff3d06f24991",
        "executionInfo": {
          "status": "ok",
          "timestamp": 1524443062066,
          "user_tz": 240,
          "elapsed": 328,
          "user": {
            "displayName": "swapnendu ray",
            "photoUrl": "https://lh3.googleusercontent.com/a/default-user=s128",
            "userId": "103288128901702085430"
          }
        }
      },
      "cell_type": "code",
      "source": [
        "time_steps=5\n",
        "#Reshape has data,time_steps,features\n",
        "#Only reshape input data\n",
        "X_train,y_train=shape(X_train,y_train,time_steps)\n",
        "X_test,y_test=shape(X_test,y_test,time_steps)\n",
        "print(X_train.shape,y_train.shape,X_test.shape,y_test.shape)"
      ],
      "execution_count": 82,
      "outputs": [
        {
          "output_type": "stream",
          "text": [
            "(6062, 5, 360) (6062, 3) (670, 5, 360) (670, 3)\n"
          ],
          "name": "stdout"
        }
      ]
    },
    {
      "metadata": {
        "id": "uUYPtcMhZehO",
        "colab_type": "code",
        "colab": {
          "autoexec": {
            "startup": false,
            "wait_interval": 0
          }
        }
      },
      "cell_type": "code",
      "source": [
        "time_steps=5\n",
        "input_dimensions=360\n",
        "#Shape=time_steps,one_hot_vector_size\n",
        "inputs=Input(shape=(time_steps,input_dimensions))\n",
        "X1=LSTM(32,return_sequences=True)(inputs)\n",
        "#Dropping the temporal dimension by not giving return_sequences=True....So that the past 5 matches can be used to predict the next game result\n",
        "X1=LSTM(32)(X1)\n",
        "#Softmax layer for output(The number of neurons is the number of classes)\n",
        "output=Dense(3,activation='softmax')(X1)\n",
        "#Creating the model\n",
        "model=Model(inputs=inputs,outputs=output)\n"
      ],
      "execution_count": 0,
      "outputs": []
    },
    {
      "metadata": {
        "id": "U86An_ySZlOs",
        "colab_type": "code",
        "colab": {
          "autoexec": {
            "startup": false,
            "wait_interval": 0
          },
          "base_uri": "https://localhost:8080/",
          "height": 278
        },
        "outputId": "c8655ba7-9828-4c78-f79f-93ef804fbc30",
        "executionInfo": {
          "status": "ok",
          "timestamp": 1524436192300,
          "user_tz": 240,
          "elapsed": 310,
          "user": {
            "displayName": "swapnendu ray",
            "photoUrl": "https://lh3.googleusercontent.com/a/default-user=s128",
            "userId": "103288128901702085430"
          }
        }
      },
      "cell_type": "code",
      "source": [
        "#To get summary of model\n",
        "model.summary()"
      ],
      "execution_count": 35,
      "outputs": [
        {
          "output_type": "stream",
          "text": [
            "_________________________________________________________________\n",
            "Layer (type)                 Output Shape              Param #   \n",
            "=================================================================\n",
            "input_3 (InputLayer)         (None, 5, 360)            0         \n",
            "_________________________________________________________________\n",
            "lstm_5 (LSTM)                (None, 5, 32)             50304     \n",
            "_________________________________________________________________\n",
            "lstm_6 (LSTM)                (None, 32)                8320      \n",
            "_________________________________________________________________\n",
            "dense_3 (Dense)              (None, 3)                 99        \n",
            "=================================================================\n",
            "Total params: 58,723\n",
            "Trainable params: 58,723\n",
            "Non-trainable params: 0\n",
            "_________________________________________________________________\n"
          ],
          "name": "stdout"
        }
      ]
    },
    {
      "metadata": {
        "id": "-CCSZzQiZre6",
        "colab_type": "code",
        "colab": {
          "autoexec": {
            "startup": false,
            "wait_interval": 0
          },
          "base_uri": "https://localhost:8080/",
          "height": 278
        },
        "outputId": "aa484bae-61bd-4ed1-d031-0faa36b7a337",
        "executionInfo": {
          "status": "ok",
          "timestamp": 1524434947838,
          "user_tz": 240,
          "elapsed": 12462,
          "user": {
            "displayName": "swapnendu ray",
            "photoUrl": "https://lh3.googleusercontent.com/a/default-user=s128",
            "userId": "103288128901702085430"
          }
        }
      },
      "cell_type": "code",
      "source": [
        "#Defining the model for rmsprop\n",
        "model.compile(optimizer='rmsprop',loss='categorical_crossentropy',metrics=['accuracy'])\n",
        "#Validation_split for using it in validation data\n",
        "history=model.fit(X_train,y_train,batch_size=64,epochs=7,validation_split=0.33)"
      ],
      "execution_count": 12,
      "outputs": [
        {
          "output_type": "stream",
          "text": [
            "Train on 4061 samples, validate on 2001 samples\n",
            "Epoch 1/7\n",
            "4061/4061 [==============================] - 2s 561us/step - loss: 1.0552 - acc: 0.4600 - val_loss: 1.0340 - val_acc: 0.4743\n",
            "Epoch 2/7\n",
            "4061/4061 [==============================] - 1s 350us/step - loss: 0.9806 - acc: 0.5201 - val_loss: 0.8611 - val_acc: 0.6282\n",
            "Epoch 3/7\n",
            "4061/4061 [==============================] - 1s 352us/step - loss: 0.6835 - acc: 0.7257 - val_loss: 0.5450 - val_acc: 0.7711\n",
            "Epoch 4/7\n",
            "4061/4061 [==============================] - 1s 337us/step - loss: 0.4458 - acc: 0.8646 - val_loss: 0.4015 - val_acc: 0.8596\n",
            "Epoch 5/7\n",
            "4061/4061 [==============================] - 1s 335us/step - loss: 0.3023 - acc: 0.9384 - val_loss: 0.2713 - val_acc: 0.9460\n",
            "Epoch 6/7\n",
            "4061/4061 [==============================] - 1s 336us/step - loss: 0.2070 - acc: 0.9677 - val_loss: 0.2269 - val_acc: 0.9355\n",
            "Epoch 7/7\n",
            "4061/4061 [==============================] - 1s 342us/step - loss: 0.1402 - acc: 0.9801 - val_loss: 0.1528 - val_acc: 0.9630\n"
          ],
          "name": "stdout"
        }
      ]
    },
    {
      "metadata": {
        "id": "4i98b6oeZ4R0",
        "colab_type": "code",
        "colab": {
          "autoexec": {
            "startup": false,
            "wait_interval": 0
          },
          "base_uri": "https://localhost:8080/",
          "height": 311
        },
        "outputId": "2af4eea0-293d-4c61-a747-ea923f29edec",
        "executionInfo": {
          "status": "ok",
          "timestamp": 1524434967144,
          "user_tz": 240,
          "elapsed": 466,
          "user": {
            "displayName": "swapnendu ray",
            "photoUrl": "https://lh3.googleusercontent.com/a/default-user=s128",
            "userId": "103288128901702085430"
          }
        }
      },
      "cell_type": "code",
      "source": [
        "#To get the colmn names\n",
        "print(history.history.keys())\n",
        "#To plot the accuracies for rmsprop\n",
        "plt.plot(history.history['acc'])\n",
        "plt.plot(history.history['val_acc'])\n",
        "plt.title('Model Accuracy for rmsprop')\n",
        "plt.xlabel('Epoch')\n",
        "plt.ylabel('Accuracy')\n",
        "plt.show()"
      ],
      "execution_count": 13,
      "outputs": [
        {
          "output_type": "stream",
          "text": [
            "dict_keys(['val_loss', 'val_acc', 'loss', 'acc'])\n"
          ],
          "name": "stdout"
        },
        {
          "output_type": "display_data",
          "data": {
            "image/png": "[encoded data removed]",
            "text/plain": [
              "<matplotlib.figure.Figure at 0x7f96c024cf28>"
            ]
          },
          "metadata": {
            "tags": []
          }
        }
      ]
    },
    {
      "metadata": {
        "id": "1FtWepnTaIQG",
        "colab_type": "code",
        "colab": {
          "autoexec": {
            "startup": false,
            "wait_interval": 0
          },
          "base_uri": "https://localhost:8080/",
          "height": 294
        },
        "outputId": "ec0fedf8-a640-42ff-ee21-7abf6f579675",
        "executionInfo": {
          "status": "ok",
          "timestamp": 1524435032986,
          "user_tz": 240,
          "elapsed": 512,
          "user": {
            "displayName": "swapnendu ray",
            "photoUrl": "https://lh3.googleusercontent.com/a/default-user=s128",
            "userId": "103288128901702085430"
          }
        }
      },
      "cell_type": "code",
      "source": [
        "#To plot the loss for rmsprop\n",
        "plt.plot(history.history['loss'])\n",
        "plt.plot(history.history['val_loss'])\n",
        "plt.title('Model Loss for rmsprop')\n",
        "plt.xlabel('Epoch')\n",
        "plt.ylabel('Loss')\n",
        "plt.show()"
      ],
      "execution_count": 14,
      "outputs": [
        {
          "output_type": "display_data",
          "data": {
            "image/png": "[encoded data removed]",
            "text/plain": [
              "<matplotlib.figure.Figure at 0x7f96c021b5c0>"
            ]
          },
          "metadata": {
            "tags": []
          }
        }
      ]
    },
    {
      "metadata": {
        "id": "2kKreGSGaLgE",
        "colab_type": "code",
        "colab": {
          "autoexec": {
            "startup": false,
            "wait_interval": 0
          },
          "base_uri": "https://localhost:8080/",
          "height": 278
        },
        "outputId": "7c6d5277-16ee-4543-ba8c-98f38938f8d6",
        "executionInfo": {
          "status": "ok",
          "timestamp": 1524436143108,
          "user_tz": 240,
          "elapsed": 11616,
          "user": {
            "displayName": "swapnendu ray",
            "photoUrl": "https://lh3.googleusercontent.com/a/default-user=s128",
            "userId": "103288128901702085430"
          }
        }
      },
      "cell_type": "code",
      "source": [
        "#Defining the model for sgd\n",
        "model.compile(optimizer='sgd',loss='categorical_crossentropy',metrics=['accuracy'])\n",
        "#Validation_split for using it in validation data\n",
        "history=model.fit(X_train,y_train,batch_size=64,epochs=7,validation_split=0.33)"
      ],
      "execution_count": 26,
      "outputs": [
        {
          "output_type": "stream",
          "text": [
            "Train on 4061 samples, validate on 2001 samples\n",
            "Epoch 1/7\n",
            "4061/4061 [==============================] - 2s 490us/step - loss: 1.0854 - acc: 0.4361 - val_loss: 1.0735 - val_acc: 0.4728\n",
            "Epoch 2/7\n",
            "4061/4061 [==============================] - 1s 312us/step - loss: 1.0691 - acc: 0.4649 - val_loss: 1.0632 - val_acc: 0.4728\n",
            "Epoch 3/7\n",
            "4061/4061 [==============================] - 1s 326us/step - loss: 1.0637 - acc: 0.4649 - val_loss: 1.0598 - val_acc: 0.4728\n",
            "Epoch 4/7\n",
            "4061/4061 [==============================] - 1s 328us/step - loss: 1.0619 - acc: 0.4649 - val_loss: 1.0584 - val_acc: 0.4728\n",
            "Epoch 5/7\n",
            "4061/4061 [==============================] - 1s 328us/step - loss: 1.0613 - acc: 0.4649 - val_loss: 1.0578 - val_acc: 0.4728\n",
            "Epoch 6/7\n",
            "4061/4061 [==============================] - 1s 329us/step - loss: 1.0609 - acc: 0.4649 - val_loss: 1.0575 - val_acc: 0.4728\n",
            "Epoch 7/7\n",
            "4061/4061 [==============================] - 1s 340us/step - loss: 1.0607 - acc: 0.4649 - val_loss: 1.0573 - val_acc: 0.4728\n"
          ],
          "name": "stdout"
        }
      ]
    },
    {
      "metadata": {
        "id": "MCarJQLgaQx4",
        "colab_type": "code",
        "colab": {
          "autoexec": {
            "startup": false,
            "wait_interval": 0
          },
          "base_uri": "https://localhost:8080/",
          "height": 311
        },
        "outputId": "3be0e008-5ff9-4842-a562-4184542a5729",
        "executionInfo": {
          "status": "ok",
          "timestamp": 1524436147334,
          "user_tz": 240,
          "elapsed": 714,
          "user": {
            "displayName": "swapnendu ray",
            "photoUrl": "https://lh3.googleusercontent.com/a/default-user=s128",
            "userId": "103288128901702085430"
          }
        }
      },
      "cell_type": "code",
      "source": [
        "#To get the colmn names\n",
        "print(history.history.keys())\n",
        "#To plot the accuracies for sgd\n",
        "plt.plot(history.history['acc'])\n",
        "plt.plot(history.history['val_acc'])\n",
        "plt.title('Model Accuracy for SGD')\n",
        "plt.xlabel('Epoch')\n",
        "plt.ylabel('Accuracy')\n",
        "plt.show()"
      ],
      "execution_count": 27,
      "outputs": [
        {
          "output_type": "stream",
          "text": [
            "dict_keys(['val_loss', 'val_acc', 'loss', 'acc'])\n"
          ],
          "name": "stdout"
        },
        {
          "output_type": "display_data",
          "data": {
            "image/png": "[encoded data removed]",
            "text/plain": [
              "<matplotlib.figure.Figure at 0x7f96bb4b8da0>"
            ]
          },
          "metadata": {
            "tags": []
          }
        }
      ]
    },
    {
      "metadata": {
        "id": "FKjFv_DYaYNy",
        "colab_type": "code",
        "colab": {
          "autoexec": {
            "startup": false,
            "wait_interval": 0
          },
          "base_uri": "https://localhost:8080/",
          "height": 294
        },
        "outputId": "fbe8f32c-c2dd-4d1b-bac4-92ad07aeb65e",
        "executionInfo": {
          "status": "ok",
          "timestamp": 1524436152784,
          "user_tz": 240,
          "elapsed": 700,
          "user": {
            "displayName": "swapnendu ray",
            "photoUrl": "https://lh3.googleusercontent.com/a/default-user=s128",
            "userId": "103288128901702085430"
          }
        }
      },
      "cell_type": "code",
      "source": [
        "#To plot the Losses for SGD\n",
        "plt.plot(history.history['loss'])\n",
        "plt.plot(history.history['val_loss'])\n",
        "plt.title('Model Loss for SGD')\n",
        "plt.xlabel('Epoch')\n",
        "plt.ylabel('Loss')\n",
        "plt.show()"
      ],
      "execution_count": 28,
      "outputs": [
        {
          "output_type": "display_data",
          "data": {
            "image/png": "[encoded data removed]",
            "text/plain": [
              "<matplotlib.figure.Figure at 0x7f96bb4beeb8>"
            ]
          },
          "metadata": {
            "tags": []
          }
        }
      ]
    },
    {
      "metadata": {
        "id": "zITm6NOgainq",
        "colab_type": "code",
        "colab": {
          "autoexec": {
            "startup": false,
            "wait_interval": 0
          },
          "base_uri": "https://localhost:8080/",
          "height": 278
        },
        "outputId": "27452c9a-7a2e-49f7-c9f5-1fbcb97e4db3",
        "executionInfo": {
          "status": "ok",
          "timestamp": 1524436215534,
          "user_tz": 240,
          "elapsed": 13244,
          "user": {
            "displayName": "swapnendu ray",
            "photoUrl": "https://lh3.googleusercontent.com/a/default-user=s128",
            "userId": "103288128901702085430"
          }
        }
      },
      "cell_type": "code",
      "source": [
        "#Defining the model for ADAM\n",
        "model.compile(optimizer='adam',loss='categorical_crossentropy',metrics=['accuracy'])\n",
        "#Validation_split for using it in validation data\n",
        "history=model.fit(X_train,y_train,batch_size=64,epochs=7,validation_split=0.33)"
      ],
      "execution_count": 36,
      "outputs": [
        {
          "output_type": "stream",
          "text": [
            "Train on 4061 samples, validate on 2001 samples\n",
            "Epoch 1/7\n",
            "4061/4061 [==============================] - 3s 685us/step - loss: 1.0606 - acc: 0.4595 - val_loss: 1.0425 - val_acc: 0.4728\n",
            "Epoch 2/7\n",
            "4061/4061 [==============================] - 1s 360us/step - loss: 1.0080 - acc: 0.4871 - val_loss: 0.9326 - val_acc: 0.6077\n",
            "Epoch 3/7\n",
            "4061/4061 [==============================] - 1s 344us/step - loss: 0.6515 - acc: 0.7338 - val_loss: 0.4523 - val_acc: 0.8666\n",
            "Epoch 4/7\n",
            "4061/4061 [==============================] - 1s 359us/step - loss: 0.3338 - acc: 0.9197 - val_loss: 0.2774 - val_acc: 0.9385\n",
            "Epoch 5/7\n",
            "4061/4061 [==============================] - 1s 343us/step - loss: 0.1947 - acc: 0.9749 - val_loss: 0.1773 - val_acc: 0.9705\n",
            "Epoch 6/7\n",
            "4061/4061 [==============================] - 1s 341us/step - loss: 0.1192 - acc: 0.9884 - val_loss: 0.1286 - val_acc: 0.9740\n",
            "Epoch 7/7\n",
            "4061/4061 [==============================] - 1s 347us/step - loss: 0.0767 - acc: 0.9938 - val_loss: 0.0956 - val_acc: 0.9805\n"
          ],
          "name": "stdout"
        }
      ]
    },
    {
      "metadata": {
        "id": "qUxxuMwdaroc",
        "colab_type": "code",
        "colab": {
          "autoexec": {
            "startup": false,
            "wait_interval": 0
          },
          "base_uri": "https://localhost:8080/",
          "height": 311
        },
        "outputId": "e6b3d7cf-b892-433b-8eb1-5550a55e34ef",
        "executionInfo": {
          "status": "ok",
          "timestamp": 1524436220356,
          "user_tz": 240,
          "elapsed": 650,
          "user": {
            "displayName": "swapnendu ray",
            "photoUrl": "https://lh3.googleusercontent.com/a/default-user=s128",
            "userId": "103288128901702085430"
          }
        }
      },
      "cell_type": "code",
      "source": [
        "#To get the colmn names\n",
        "print(history.history.keys())\n",
        "#To plot the accuracies for ADAM\n",
        "plt.plot(history.history['acc'])\n",
        "plt.plot(history.history['val_acc'])\n",
        "plt.title('Model Accuracy for ADAM')\n",
        "plt.xlabel('Epoch')\n",
        "plt.ylabel('Accuracy')\n",
        "plt.show()"
      ],
      "execution_count": 37,
      "outputs": [
        {
          "output_type": "stream",
          "text": [
            "dict_keys(['val_loss', 'val_acc', 'loss', 'acc'])\n"
          ],
          "name": "stdout"
        },
        {
          "output_type": "display_data",
          "data": {
            "image/png": "[encoded data removed]",
            "text/plain": [
              "<matplotlib.figure.Figure at 0x7f96b9d3a6d8>"
            ]
          },
          "metadata": {
            "tags": []
          }
        }
      ]
    },
    {
      "metadata": {
        "id": "BTZhmrG9avQ8",
        "colab_type": "code",
        "colab": {
          "autoexec": {
            "startup": false,
            "wait_interval": 0
          },
          "base_uri": "https://localhost:8080/",
          "height": 294
        },
        "outputId": "7bb01965-00c3-4ab8-db71-510ce463bd21",
        "executionInfo": {
          "status": "ok",
          "timestamp": 1524436225812,
          "user_tz": 240,
          "elapsed": 486,
          "user": {
            "displayName": "swapnendu ray",
            "photoUrl": "https://lh3.googleusercontent.com/a/default-user=s128",
            "userId": "103288128901702085430"
          }
        }
      },
      "cell_type": "code",
      "source": [
        "#To plot the Losses for ADAM\n",
        "plt.plot(history.history['loss'])\n",
        "plt.plot(history.history['val_loss'])\n",
        "plt.title('Model Loss for ADAM')\n",
        "plt.xlabel('Epoch')\n",
        "plt.ylabel('Loss')\n",
        "plt.show()"
      ],
      "execution_count": 38,
      "outputs": [
        {
          "output_type": "display_data",
          "data": {
            "image/png": "[encoded data removed]",
            "text/plain": [
              "<matplotlib.figure.Figure at 0x7f96b9d6f198>"
            ]
          },
          "metadata": {
            "tags": []
          }
        }
      ]
    },
    {
      "metadata": {
        "id": "kNpuJrroazNA",
        "colab_type": "code",
        "colab": {
          "autoexec": {
            "startup": false,
            "wait_interval": 0
          },
          "base_uri": "https://localhost:8080/",
          "height": 52
        },
        "outputId": "d7eb8cb1-e82a-49a0-b029-dbf410e465bf",
        "executionInfo": {
          "status": "ok",
          "timestamp": 1524436231374,
          "user_tz": 240,
          "elapsed": 330,
          "user": {
            "displayName": "swapnendu ray",
            "photoUrl": "https://lh3.googleusercontent.com/a/default-user=s128",
            "userId": "103288128901702085430"
          }
        }
      },
      "cell_type": "code",
      "source": [
        "scores,acc=model.evaluate(X_test,y_test,batch_size=64)\n",
        "print(acc)"
      ],
      "execution_count": 39,
      "outputs": [
        {
          "output_type": "stream",
          "text": [
            "670/670 [==============================] - 0s 105us/step\n",
            "0.9835820895522388\n"
          ],
          "name": "stdout"
        }
      ]
    },
    {
      "metadata": {
        "id": "U9QKqjwh3dQi",
        "colab_type": "code",
        "colab": {
          "autoexec": {
            "startup": false,
            "wait_interval": 0
          }
        }
      },
      "cell_type": "code",
      "source": [
        ""
      ],
      "execution_count": 0,
      "outputs": []
    },
    {
      "metadata": {
        "id": "JwCd6P0y3aTm",
        "colab_type": "code",
        "colab": {
          "autoexec": {
            "startup": false,
            "wait_interval": 0
          }
        }
      },
      "cell_type": "code",
      "source": [
        "#Implementing using GRU\n",
        "time_steps=5\n",
        "input_dimensions=360\n",
        "#Shape=time_steps,one_hot_vector_size\n",
        "inputs=Input(shape=(time_steps,input_dimensions))\n",
        "X1=GRU(32,return_sequences=True)(inputs)\n",
        "#Dropping the temporal dimension by not giving return_sequences=True....So that the past 5 matches can be used to predict the next game result\n",
        "X1=GRU(32)(X1)\n",
        "#Softmax layer for output(The number of neurons is the number of classes)\n",
        "output=Dense(3,activation='softmax')(X1)\n",
        "#Creating the model\n",
        "model=Model(inputs=inputs,outputs=output)\n"
      ],
      "execution_count": 0,
      "outputs": []
    },
    {
      "metadata": {
        "id": "AHq5rhar34em",
        "colab_type": "code",
        "colab": {
          "autoexec": {
            "startup": false,
            "wait_interval": 0
          },
          "base_uri": "https://localhost:8080/",
          "height": 278
        },
        "outputId": "b988c6d3-7478-4b40-e764-839ad92f3113",
        "executionInfo": {
          "status": "ok",
          "timestamp": 1524443074834,
          "user_tz": 240,
          "elapsed": 328,
          "user": {
            "displayName": "swapnendu ray",
            "photoUrl": "https://lh3.googleusercontent.com/a/default-user=s128",
            "userId": "103288128901702085430"
          }
        }
      },
      "cell_type": "code",
      "source": [
        "#To get summary of model\n",
        "model.summary()"
      ],
      "execution_count": 84,
      "outputs": [
        {
          "output_type": "stream",
          "text": [
            "_________________________________________________________________\n",
            "Layer (type)                 Output Shape              Param #   \n",
            "=================================================================\n",
            "input_9 (InputLayer)         (None, 5, 360)            0         \n",
            "_________________________________________________________________\n",
            "gru_5 (GRU)                  (None, 5, 32)             37728     \n",
            "_________________________________________________________________\n",
            "gru_6 (GRU)                  (None, 32)                6240      \n",
            "_________________________________________________________________\n",
            "dense_8 (Dense)              (None, 3)                 99        \n",
            "=================================================================\n",
            "Total params: 44,067\n",
            "Trainable params: 44,067\n",
            "Non-trainable params: 0\n",
            "_________________________________________________________________\n"
          ],
          "name": "stdout"
        }
      ]
    },
    {
      "metadata": {
        "id": "zZlJO8rW39D6",
        "colab_type": "code",
        "colab": {
          "autoexec": {
            "startup": false,
            "wait_interval": 0
          },
          "base_uri": "https://localhost:8080/",
          "height": 278
        },
        "outputId": "ee425608-7523-4166-ec39-ce144c40c09c",
        "executionInfo": {
          "status": "ok",
          "timestamp": 1524443092238,
          "user_tz": 240,
          "elapsed": 11958,
          "user": {
            "displayName": "swapnendu ray",
            "photoUrl": "https://lh3.googleusercontent.com/a/default-user=s128",
            "userId": "103288128901702085430"
          }
        }
      },
      "cell_type": "code",
      "source": [
        "#Defining the model for ADAM\n",
        "model.compile(optimizer='adam',loss='categorical_crossentropy',metrics=['accuracy'])\n",
        "#Validation_split for using it in validation data\n",
        "history=model.fit(X_train,y_train,batch_size=64,epochs=7,validation_split=0.33)"
      ],
      "execution_count": 85,
      "outputs": [
        {
          "output_type": "stream",
          "text": [
            "Train on 4061 samples, validate on 2001 samples\n",
            "Epoch 1/7\n",
            "4061/4061 [==============================] - 3s 763us/step - loss: 1.0247 - acc: 0.4787 - val_loss: 0.9538 - val_acc: 0.5772\n",
            "Epoch 2/7\n",
            "4061/4061 [==============================] - 1s 293us/step - loss: 0.7291 - acc: 0.6949 - val_loss: 0.4725 - val_acc: 0.8381\n",
            "Epoch 3/7\n",
            "4061/4061 [==============================] - 1s 358us/step - loss: 0.3298 - acc: 0.9266 - val_loss: 0.2272 - val_acc: 0.9555\n",
            "Epoch 4/7\n",
            "4061/4061 [==============================] - 1s 291us/step - loss: 0.1610 - acc: 0.9778 - val_loss: 0.1334 - val_acc: 0.9760\n",
            "Epoch 5/7\n",
            "4061/4061 [==============================] - 1s 290us/step - loss: 0.0885 - acc: 0.9911 - val_loss: 0.0823 - val_acc: 0.9860\n",
            "Epoch 6/7\n",
            "4061/4061 [==============================] - 1s 297us/step - loss: 0.0527 - acc: 0.9956 - val_loss: 0.0636 - val_acc: 0.9890\n",
            "Epoch 7/7\n",
            "4061/4061 [==============================] - 1s 297us/step - loss: 0.0328 - acc: 0.9973 - val_loss: 0.0504 - val_acc: 0.9885\n"
          ],
          "name": "stdout"
        }
      ]
    },
    {
      "metadata": {
        "id": "Y4Pmglgk4G1c",
        "colab_type": "code",
        "colab": {
          "autoexec": {
            "startup": false,
            "wait_interval": 0
          },
          "base_uri": "https://localhost:8080/",
          "height": 311
        },
        "outputId": "ae9d5a73-4a83-42a1-f295-8302d3ad0448",
        "executionInfo": {
          "status": "ok",
          "timestamp": 1524443096016,
          "user_tz": 240,
          "elapsed": 496,
          "user": {
            "displayName": "swapnendu ray",
            "photoUrl": "https://lh3.googleusercontent.com/a/default-user=s128",
            "userId": "103288128901702085430"
          }
        }
      },
      "cell_type": "code",
      "source": [
        "#To get the colmn names\n",
        "print(history.history.keys())\n",
        "#To plot the accuracies for GRU ADAM\n",
        "plt.plot(history.history['acc'])\n",
        "plt.plot(history.history['val_acc'])\n",
        "plt.title('Model Accuracy for ADAM')\n",
        "plt.xlabel('Epoch')\n",
        "plt.ylabel('Accuracy')\n",
        "plt.show()"
      ],
      "execution_count": 86,
      "outputs": [
        {
          "output_type": "stream",
          "text": [
            "dict_keys(['val_loss', 'val_acc', 'loss', 'acc'])\n"
          ],
          "name": "stdout"
        },
        {
          "output_type": "display_data",
          "data": {
            "image/png": "[encoded data removed]",
            "text/plain": [
              "<matplotlib.figure.Figure at 0x7f96b7125e80>"
            ]
          },
          "metadata": {
            "tags": []
          }
        }
      ]
    },
    {
      "metadata": {
        "id": "zSfSfxZh4NRU",
        "colab_type": "code",
        "colab": {
          "autoexec": {
            "startup": false,
            "wait_interval": 0
          },
          "base_uri": "https://localhost:8080/",
          "height": 294
        },
        "outputId": "06d398cd-135a-4cab-9106-88b0c1a95722",
        "executionInfo": {
          "status": "ok",
          "timestamp": 1524443102244,
          "user_tz": 240,
          "elapsed": 464,
          "user": {
            "displayName": "swapnendu ray",
            "photoUrl": "https://lh3.googleusercontent.com/a/default-user=s128",
            "userId": "103288128901702085430"
          }
        }
      },
      "cell_type": "code",
      "source": [
        "#To plot the Losses for ADAM GRU\n",
        "plt.plot(history.history['loss'])\n",
        "plt.plot(history.history['val_loss'])\n",
        "plt.title('Model Loss for ADAM')\n",
        "plt.xlabel('Epoch')\n",
        "plt.ylabel('Loss')\n",
        "plt.show()"
      ],
      "execution_count": 87,
      "outputs": [
        {
          "output_type": "display_data",
          "data": {
            "image/png": "[encoded data removed]",
            "text/plain": [
              "<matplotlib.figure.Figure at 0x7f96b6818ef0>"
            ]
          },
          "metadata": {
            "tags": []
          }
        }
      ]
    }
  ]
}